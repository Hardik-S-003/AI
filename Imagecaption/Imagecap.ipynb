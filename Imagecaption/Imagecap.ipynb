{
 "cells": [
  {
   "cell_type": "code",
   "execution_count": 47,
   "metadata": {},
   "outputs": [],
   "source": [
    "import numpy as np\n",
    "import pandas as pd\n",
    "import tensorflow as tf\n",
    "from tensorflow.keras.applications import VGG16, ResNet50\n",
    "from tensorflow.keras.preprocessing.image import load_img, img_to_array\n",
    "from tensorflow.keras.layers import Embedding, LSTM, Dense, Add, Input\n",
    "from tensorflow.keras.models import Model\n",
    "from tensorflow.keras.preprocessing.text import Tokenizer\n",
    "from sklearn.preprocessing import StandardScaler\n",
    "import matplotlib.pyplot as plt\n",
    "resnet_model = ResNet50(weights='imagenet', include_top=False, input_shape=(224, 224, 3))\n",
    "resnet_model.trainable = False\n"
   ]
  },
  {
   "cell_type": "code",
   "execution_count": 48,
   "metadata": {},
   "outputs": [],
   "source": [
    "\n",
    "def extract_features(image_path):\n",
    "    image = load_img(image_path, target_size=(224, 224))\n",
    "    image = img_to_array(image)\n",
    "    image = np.expand_dims(image, axis=0)\n",
    "    image = tf.keras.applications.resnet50.preprocess_input(image)\n",
    "    features = resnet_model.predict(image)\n",
    "    features = features.flatten()\n",
    "    return features\n"
   ]
  },
  {
   "cell_type": "code",
   "execution_count": 49,
   "metadata": {},
   "outputs": [],
   "source": [
    "\n",
    "captions = [\"a dog running\", \"a person walking\", \"a child playing with a ball\"]  \n",
    "tokenizer = Tokenizer()\n",
    "tokenizer.fit_on_texts(captions)\n",
    "vocab_size = len(tokenizer.word_index) + 1 \n",
    "sequences = tokenizer.texts_to_sequences(captions)\n",
    "max_caption_length = max([len(seq) for seq in sequences])\n"
   ]
  },
  {
   "cell_type": "code",
   "execution_count": 50,
   "metadata": {},
   "outputs": [
    {
     "name": "stdout",
     "output_type": "stream",
     "text": [
      "\u001b[1m1/1\u001b[0m \u001b[32m━━━━━━━━━━━━━━━━━━━━\u001b[0m\u001b[37m\u001b[0m \u001b[1m1s\u001b[0m 1s/step\n",
      "\u001b[1m1/1\u001b[0m \u001b[32m━━━━━━━━━━━━━━━━━━━━\u001b[0m\u001b[37m\u001b[0m \u001b[1m0s\u001b[0m 120ms/step\n",
      "\u001b[1m1/1\u001b[0m \u001b[32m━━━━━━━━━━━━━━━━━━━━\u001b[0m\u001b[37m\u001b[0m \u001b[1m0s\u001b[0m 160ms/step\n"
     ]
    }
   ],
   "source": [
    "\n",
    "from tensorflow.keras.preprocessing.sequence import pad_sequences\n",
    "image_paths = ['/workspace/MyDailyWork/Imagecaption/images.jpg', '/workspace/MyDailyWork/Imagecaption/img2.jpg', \n",
    "                '/workspace/MyDailyWork/Imagecaption/img3.jpg', '/workspace/MyDailyWork/Imagecaption/is.jpg',\n",
    "                '/workspace/MyDailyWork/Imagecaption/Kazakhstan.jpg'] \n",
    "\n",
    "X_image = []\n",
    "X_caption = []\n",
    "y = []\n",
    "\n",
    "for image_path, caption in zip(image_paths, captions):\n",
    "    features = extract_features(image_path)\n",
    "\n",
    "    sequence = tokenizer.texts_to_sequences([caption])[0]\n",
    "    \n",
    "    for i in range(1, len(sequence)):\n",
    "        X_caption.append(sequence[:i]) \n",
    "        y.append(sequence[i]) \n",
    "\n",
    "        X_image.append(features)\n",
    "\n",
    "X_image = np.array(X_image)\n",
    "X_caption = pad_sequences(X_caption, maxlen=max_caption_length)  # Padding sequences to the same length\n",
    "y = np.array(y)\n"
   ]
  },
  {
   "cell_type": "code",
   "execution_count": 51,
   "metadata": {},
   "outputs": [],
   "source": [
    "\n",
    "image_input = Input(shape=(100352,))  \n",
    "image_features = Dense(256, activation='relu')(image_input)\n",
    "caption_input = Input(shape=(max_caption_length,))\n",
    "embedding = Embedding(vocab_size, 256)(caption_input)\n",
    "lstm = LSTM(256)(embedding)\n",
    "merged = Add()([image_features, lstm])\n",
    "output = Dense(vocab_size, activation='softmax')(merged)\n",
    "model = Model(inputs=[image_input, caption_input], outputs=output)\n",
    "model.compile(loss='sparse_categorical_crossentropy', optimizer='adam', metrics=['accuracy'])\n"
   ]
  },
  {
   "cell_type": "code",
   "execution_count": 52,
   "metadata": {},
   "outputs": [
    {
     "name": "stdout",
     "output_type": "stream",
     "text": [
      "\u001b[1m1/1\u001b[0m \u001b[32m━━━━━━━━━━━━━━━━━━━━\u001b[0m\u001b[37m\u001b[0m \u001b[1m0s\u001b[0m 136ms/step\n",
      "\u001b[1m1/1\u001b[0m \u001b[32m━━━━━━━━━━━━━━━━━━━━\u001b[0m\u001b[37m\u001b[0m \u001b[1m0s\u001b[0m 150ms/step\n",
      "\u001b[1m1/1\u001b[0m \u001b[32m━━━━━━━━━━━━━━━━━━━━\u001b[0m\u001b[37m\u001b[0m \u001b[1m0s\u001b[0m 32ms/step\n",
      "\u001b[1m1/1\u001b[0m \u001b[32m━━━━━━━━━━━━━━━━━━━━\u001b[0m\u001b[37m\u001b[0m \u001b[1m0s\u001b[0m 33ms/step\n",
      "\u001b[1m1/1\u001b[0m \u001b[32m━━━━━━━━━━━━━━━━━━━━\u001b[0m\u001b[37m\u001b[0m \u001b[1m0s\u001b[0m 31ms/step\n",
      "\u001b[1m1/1\u001b[0m \u001b[32m━━━━━━━━━━━━━━━━━━━━\u001b[0m\u001b[37m\u001b[0m \u001b[1m0s\u001b[0m 32ms/step\n",
      "\u001b[1m1/1\u001b[0m \u001b[32m━━━━━━━━━━━━━━━━━━━━\u001b[0m\u001b[37m\u001b[0m \u001b[1m0s\u001b[0m 31ms/step\n",
      "walking walking walking walking walking\n"
     ]
    }
   ],
   "source": [
    "\n",
    "def generate_caption(image_path):\n",
    "    features = extract_features(image_path)\n",
    "\n",
    "    features = features.reshape((1, features.shape[0]))\n",
    "\n",
    "    sequence = tokenizer.texts_to_sequences(['startseq'])[0]  \n",
    "\n",
    "    for i in range(max_caption_length):\n",
    "        padded_sequence = pad_sequences([sequence], maxlen=max_caption_length)\n",
    "        predicted_probs = model.predict([features, padded_sequence])\n",
    "        predicted_word_index = np.argmax(predicted_probs)\n",
    "        predicted_word = tokenizer.index_word[predicted_word_index]\n",
    "        sequence.append(predicted_word_index) \n",
    "\n",
    "        if predicted_word == 'endseq':\n",
    "            break\n",
    "            \n",
    "    return ' '.join([tokenizer.index_word[idx] for idx in sequence[1:]]) \n",
    "\n",
    "generated_caption = generate_caption('/workspace/MyDailyWork/Imagecaption/img3.jpg')\n",
    "print(generated_caption)\n"
   ]
  }
 ],
 "metadata": {
  "kernelspec": {
   "display_name": "Python 3",
   "language": "python",
   "name": "python3"
  },
  "language_info": {
   "codemirror_mode": {
    "name": "ipython",
    "version": 3
   },
   "file_extension": ".py",
   "mimetype": "text/x-python",
   "name": "python",
   "nbconvert_exporter": "python",
   "pygments_lexer": "ipython3",
   "version": "3.12.9"
  }
 },
 "nbformat": 4,
 "nbformat_minor": 2
}
